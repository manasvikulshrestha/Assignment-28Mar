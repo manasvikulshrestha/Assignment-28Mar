{
 "cells": [
  {
   "cell_type": "markdown",
   "id": "d5506d6d-8b6f-4631-a72f-66ae476e2c11",
   "metadata": {},
   "source": [
    "Q1. What is Ridge Regression, and how does it differ from ordinary least squares regression?\n",
    "Q2. What are the assumptions of Ridge Regression?\n",
    "Q3. How do you select the value of the tuning parameter (lambda) in Ridge Regression?\n",
    "Q4. Can Ridge Regression be used for feature selection? If yes, how?\n",
    "Q5. How does the Ridge Regression model perform in the presence of multicollinearity?\n",
    "Q6. Can Ridge Regression handle both categorical and continuous independent variables?\n",
    "Q7. How do you interpret the coefficients of Ridge Regression?\n",
    "Q8. Can Ridge Regression be used for time-series data analysis? If yes, how?"
   ]
  },
  {
   "cell_type": "code",
   "execution_count": null,
   "id": "0d62a0fc-7c6b-4083-b9f5-da31270f6b34",
   "metadata": {},
   "outputs": [],
   "source": []
  }
 ],
 "metadata": {
  "kernelspec": {
   "display_name": "Python 3 (ipykernel)",
   "language": "python",
   "name": "python3"
  },
  "language_info": {
   "codemirror_mode": {
    "name": "ipython",
    "version": 3
   },
   "file_extension": ".py",
   "mimetype": "text/x-python",
   "name": "python",
   "nbconvert_exporter": "python",
   "pygments_lexer": "ipython3",
   "version": "3.10.8"
  }
 },
 "nbformat": 4,
 "nbformat_minor": 5
}
